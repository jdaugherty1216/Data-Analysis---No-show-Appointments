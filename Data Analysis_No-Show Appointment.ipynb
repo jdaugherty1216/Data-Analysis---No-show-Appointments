{
 "cells": [
  {
   "cell_type": "markdown",
   "metadata": {},
   "source": [
    "# Project: No Show Appointments\n",
    "\n",
    "## Table of Contents\n",
    "<ul>\n",
    "<li><a href=\"#intro\">Introduction</a></li>\n",
    "<li><a href=\"#wrangling\">Data Wrangling</a></li>\n",
    "<li><a href=\"#eda\">Exploratory Data Analysis</a></li>\n",
    "<li><a href=\"#conclusions\">Conclusions</a></li>\n",
    "</ul>\n",
    "\n",
    "## Review of the dataset and the entities within\n",
    "\n",
    "The dataset has data collected from 110,527 medical appointments in Brazil and is centered around if the patient had shown up for their scheduled appointment. There are several different pieces of data that we can anaylize from this dataset that could help in understanding questions surounding patients not showing up for their appointments. The data used in this project is from Kaggle.com.\n",
    "\n",
    "- `ScheduledDay` tells us on what day the patient set up their appointment.\n",
    "- `Neighborhood` indicates the location of the hospital.\n",
    "- `Scholarship` indicates whether or not the patient is enrolled in Brasilian welfare program Bolsa Familia.\n",
    "- `No-show` indicates if a patient did not show up for their appointment. `Yes` being a no show and `No` meaning they did show up.\n"
   ]
  },
  {
   "cell_type": "markdown",
   "metadata": {},
   "source": [
    "<a id='intro'></a>\n",
    "## Introduction and Question Asked\n",
    "\n",
    "This report will be analyizing the data by following the data analysis process: Asking question(s), Wrangling data, Drawing conclusions, and Communicating our results.\n",
    "\n",
    "The question that is being asked: Which attribute has the strongest correlation with no-shows and how strong the correlation between the two?"
   ]
  },
  {
   "cell_type": "code",
   "execution_count": 1,
   "metadata": {},
   "outputs": [],
   "source": [
    "#importing libraries to be used\n",
    "import pandas as pd\n",
    "import numpy as np\n",
    "import matplotlib.pyplot as plt\n",
    "import seaborn as sns\n",
    "%matplotlib inline"
   ]
  },
  {
   "cell_type": "markdown",
   "metadata": {},
   "source": [
    "<a id='wrangling'></a>\n",
    "## Data Wrangling\n",
    "\n",
    "We will need to gather, asses, and clean our data.\n",
    "\n",
    "### General Properties"
   ]
  },
  {
   "cell_type": "code",
   "execution_count": 2,
   "metadata": {
    "scrolled": true
   },
   "outputs": [
    {
     "data": {
      "text/html": [
       "<div>\n",
       "<style scoped>\n",
       "    .dataframe tbody tr th:only-of-type {\n",
       "        vertical-align: middle;\n",
       "    }\n",
       "\n",
       "    .dataframe tbody tr th {\n",
       "        vertical-align: top;\n",
       "    }\n",
       "\n",
       "    .dataframe thead th {\n",
       "        text-align: right;\n",
       "    }\n",
       "</style>\n",
       "<table border=\"1\" class=\"dataframe\">\n",
       "  <thead>\n",
       "    <tr style=\"text-align: right;\">\n",
       "      <th></th>\n",
       "      <th>PatientId</th>\n",
       "      <th>AppointmentID</th>\n",
       "      <th>Gender</th>\n",
       "      <th>ScheduledDay</th>\n",
       "      <th>AppointmentDay</th>\n",
       "      <th>Age</th>\n",
       "      <th>Neighbourhood</th>\n",
       "      <th>Scholarship</th>\n",
       "      <th>Hipertension</th>\n",
       "      <th>Diabetes</th>\n",
       "      <th>Alcoholism</th>\n",
       "      <th>Handcap</th>\n",
       "      <th>SMS_received</th>\n",
       "      <th>No-show</th>\n",
       "    </tr>\n",
       "  </thead>\n",
       "  <tbody>\n",
       "    <tr>\n",
       "      <th>0</th>\n",
       "      <td>2.987250e+13</td>\n",
       "      <td>5642903</td>\n",
       "      <td>F</td>\n",
       "      <td>2016-04-29T18:38:08Z</td>\n",
       "      <td>2016-04-29T00:00:00Z</td>\n",
       "      <td>62</td>\n",
       "      <td>JARDIM DA PENHA</td>\n",
       "      <td>0</td>\n",
       "      <td>1</td>\n",
       "      <td>0</td>\n",
       "      <td>0</td>\n",
       "      <td>0</td>\n",
       "      <td>0</td>\n",
       "      <td>No</td>\n",
       "    </tr>\n",
       "    <tr>\n",
       "      <th>1</th>\n",
       "      <td>5.589978e+14</td>\n",
       "      <td>5642503</td>\n",
       "      <td>M</td>\n",
       "      <td>2016-04-29T16:08:27Z</td>\n",
       "      <td>2016-04-29T00:00:00Z</td>\n",
       "      <td>56</td>\n",
       "      <td>JARDIM DA PENHA</td>\n",
       "      <td>0</td>\n",
       "      <td>0</td>\n",
       "      <td>0</td>\n",
       "      <td>0</td>\n",
       "      <td>0</td>\n",
       "      <td>0</td>\n",
       "      <td>No</td>\n",
       "    </tr>\n",
       "    <tr>\n",
       "      <th>2</th>\n",
       "      <td>4.262962e+12</td>\n",
       "      <td>5642549</td>\n",
       "      <td>F</td>\n",
       "      <td>2016-04-29T16:19:04Z</td>\n",
       "      <td>2016-04-29T00:00:00Z</td>\n",
       "      <td>62</td>\n",
       "      <td>MATA DA PRAIA</td>\n",
       "      <td>0</td>\n",
       "      <td>0</td>\n",
       "      <td>0</td>\n",
       "      <td>0</td>\n",
       "      <td>0</td>\n",
       "      <td>0</td>\n",
       "      <td>No</td>\n",
       "    </tr>\n",
       "    <tr>\n",
       "      <th>3</th>\n",
       "      <td>8.679512e+11</td>\n",
       "      <td>5642828</td>\n",
       "      <td>F</td>\n",
       "      <td>2016-04-29T17:29:31Z</td>\n",
       "      <td>2016-04-29T00:00:00Z</td>\n",
       "      <td>8</td>\n",
       "      <td>PONTAL DE CAMBURI</td>\n",
       "      <td>0</td>\n",
       "      <td>0</td>\n",
       "      <td>0</td>\n",
       "      <td>0</td>\n",
       "      <td>0</td>\n",
       "      <td>0</td>\n",
       "      <td>No</td>\n",
       "    </tr>\n",
       "    <tr>\n",
       "      <th>4</th>\n",
       "      <td>8.841186e+12</td>\n",
       "      <td>5642494</td>\n",
       "      <td>F</td>\n",
       "      <td>2016-04-29T16:07:23Z</td>\n",
       "      <td>2016-04-29T00:00:00Z</td>\n",
       "      <td>56</td>\n",
       "      <td>JARDIM DA PENHA</td>\n",
       "      <td>0</td>\n",
       "      <td>1</td>\n",
       "      <td>1</td>\n",
       "      <td>0</td>\n",
       "      <td>0</td>\n",
       "      <td>0</td>\n",
       "      <td>No</td>\n",
       "    </tr>\n",
       "  </tbody>\n",
       "</table>\n",
       "</div>"
      ],
      "text/plain": [
       "      PatientId  AppointmentID Gender          ScheduledDay  \\\n",
       "0  2.987250e+13        5642903      F  2016-04-29T18:38:08Z   \n",
       "1  5.589978e+14        5642503      M  2016-04-29T16:08:27Z   \n",
       "2  4.262962e+12        5642549      F  2016-04-29T16:19:04Z   \n",
       "3  8.679512e+11        5642828      F  2016-04-29T17:29:31Z   \n",
       "4  8.841186e+12        5642494      F  2016-04-29T16:07:23Z   \n",
       "\n",
       "         AppointmentDay  Age      Neighbourhood  Scholarship  Hipertension  \\\n",
       "0  2016-04-29T00:00:00Z   62    JARDIM DA PENHA            0             1   \n",
       "1  2016-04-29T00:00:00Z   56    JARDIM DA PENHA            0             0   \n",
       "2  2016-04-29T00:00:00Z   62      MATA DA PRAIA            0             0   \n",
       "3  2016-04-29T00:00:00Z    8  PONTAL DE CAMBURI            0             0   \n",
       "4  2016-04-29T00:00:00Z   56    JARDIM DA PENHA            0             1   \n",
       "\n",
       "   Diabetes  Alcoholism  Handcap  SMS_received No-show  \n",
       "0         0           0        0             0      No  \n",
       "1         0           0        0             0      No  \n",
       "2         0           0        0             0      No  \n",
       "3         0           0        0             0      No  \n",
       "4         1           0        0             0      No  "
      ]
     },
     "execution_count": 2,
     "metadata": {},
     "output_type": "execute_result"
    }
   ],
   "source": [
    "#loading our data\n",
    "df=pd.read_csv('noshowappointments.csv')\n",
    "\n",
    "#Looking at the 5 first rows\n",
    "df.head()"
   ]
  },
  {
   "cell_type": "code",
   "execution_count": 3,
   "metadata": {},
   "outputs": [
    {
     "name": "stdout",
     "output_type": "stream",
     "text": [
      "<class 'pandas.core.frame.DataFrame'>\n",
      "RangeIndex: 110527 entries, 0 to 110526\n",
      "Data columns (total 14 columns):\n",
      " #   Column          Non-Null Count   Dtype  \n",
      "---  ------          --------------   -----  \n",
      " 0   PatientId       110527 non-null  float64\n",
      " 1   AppointmentID   110527 non-null  int64  \n",
      " 2   Gender          110527 non-null  object \n",
      " 3   ScheduledDay    110527 non-null  object \n",
      " 4   AppointmentDay  110527 non-null  object \n",
      " 5   Age             110527 non-null  int64  \n",
      " 6   Neighbourhood   110527 non-null  object \n",
      " 7   Scholarship     110527 non-null  int64  \n",
      " 8   Hipertension    110527 non-null  int64  \n",
      " 9   Diabetes        110527 non-null  int64  \n",
      " 10  Alcoholism      110527 non-null  int64  \n",
      " 11  Handcap         110527 non-null  int64  \n",
      " 12  SMS_received    110527 non-null  int64  \n",
      " 13  No-show         110527 non-null  object \n",
      "dtypes: float64(1), int64(8), object(5)\n",
      "memory usage: 11.8+ MB\n"
     ]
    }
   ],
   "source": [
    "#Looking at info to find missing values or incorrect data types\n",
    "df.info()"
   ]
  },
  {
   "cell_type": "markdown",
   "metadata": {},
   "source": [
    "`AppointmentDay` and `ScheduleDay` both are string objects rather than datetime. There are no null values."
   ]
  },
  {
   "cell_type": "code",
   "execution_count": 4,
   "metadata": {},
   "outputs": [
    {
     "data": {
      "text/html": [
       "<div>\n",
       "<style scoped>\n",
       "    .dataframe tbody tr th:only-of-type {\n",
       "        vertical-align: middle;\n",
       "    }\n",
       "\n",
       "    .dataframe tbody tr th {\n",
       "        vertical-align: top;\n",
       "    }\n",
       "\n",
       "    .dataframe thead th {\n",
       "        text-align: right;\n",
       "    }\n",
       "</style>\n",
       "<table border=\"1\" class=\"dataframe\">\n",
       "  <thead>\n",
       "    <tr style=\"text-align: right;\">\n",
       "      <th></th>\n",
       "      <th>PatientId</th>\n",
       "      <th>AppointmentID</th>\n",
       "      <th>Age</th>\n",
       "      <th>Scholarship</th>\n",
       "      <th>Hipertension</th>\n",
       "      <th>Diabetes</th>\n",
       "      <th>Alcoholism</th>\n",
       "      <th>Handcap</th>\n",
       "      <th>SMS_received</th>\n",
       "    </tr>\n",
       "  </thead>\n",
       "  <tbody>\n",
       "    <tr>\n",
       "      <th>count</th>\n",
       "      <td>1.105270e+05</td>\n",
       "      <td>1.105270e+05</td>\n",
       "      <td>110527.000000</td>\n",
       "      <td>110527.000000</td>\n",
       "      <td>110527.000000</td>\n",
       "      <td>110527.000000</td>\n",
       "      <td>110527.000000</td>\n",
       "      <td>110527.000000</td>\n",
       "      <td>110527.000000</td>\n",
       "    </tr>\n",
       "    <tr>\n",
       "      <th>mean</th>\n",
       "      <td>1.474963e+14</td>\n",
       "      <td>5.675305e+06</td>\n",
       "      <td>37.088874</td>\n",
       "      <td>0.098266</td>\n",
       "      <td>0.197246</td>\n",
       "      <td>0.071865</td>\n",
       "      <td>0.030400</td>\n",
       "      <td>0.022248</td>\n",
       "      <td>0.321026</td>\n",
       "    </tr>\n",
       "    <tr>\n",
       "      <th>std</th>\n",
       "      <td>2.560949e+14</td>\n",
       "      <td>7.129575e+04</td>\n",
       "      <td>23.110205</td>\n",
       "      <td>0.297675</td>\n",
       "      <td>0.397921</td>\n",
       "      <td>0.258265</td>\n",
       "      <td>0.171686</td>\n",
       "      <td>0.161543</td>\n",
       "      <td>0.466873</td>\n",
       "    </tr>\n",
       "    <tr>\n",
       "      <th>min</th>\n",
       "      <td>3.921784e+04</td>\n",
       "      <td>5.030230e+06</td>\n",
       "      <td>-1.000000</td>\n",
       "      <td>0.000000</td>\n",
       "      <td>0.000000</td>\n",
       "      <td>0.000000</td>\n",
       "      <td>0.000000</td>\n",
       "      <td>0.000000</td>\n",
       "      <td>0.000000</td>\n",
       "    </tr>\n",
       "    <tr>\n",
       "      <th>25%</th>\n",
       "      <td>4.172614e+12</td>\n",
       "      <td>5.640286e+06</td>\n",
       "      <td>18.000000</td>\n",
       "      <td>0.000000</td>\n",
       "      <td>0.000000</td>\n",
       "      <td>0.000000</td>\n",
       "      <td>0.000000</td>\n",
       "      <td>0.000000</td>\n",
       "      <td>0.000000</td>\n",
       "    </tr>\n",
       "    <tr>\n",
       "      <th>50%</th>\n",
       "      <td>3.173184e+13</td>\n",
       "      <td>5.680573e+06</td>\n",
       "      <td>37.000000</td>\n",
       "      <td>0.000000</td>\n",
       "      <td>0.000000</td>\n",
       "      <td>0.000000</td>\n",
       "      <td>0.000000</td>\n",
       "      <td>0.000000</td>\n",
       "      <td>0.000000</td>\n",
       "    </tr>\n",
       "    <tr>\n",
       "      <th>75%</th>\n",
       "      <td>9.439172e+13</td>\n",
       "      <td>5.725524e+06</td>\n",
       "      <td>55.000000</td>\n",
       "      <td>0.000000</td>\n",
       "      <td>0.000000</td>\n",
       "      <td>0.000000</td>\n",
       "      <td>0.000000</td>\n",
       "      <td>0.000000</td>\n",
       "      <td>1.000000</td>\n",
       "    </tr>\n",
       "    <tr>\n",
       "      <th>max</th>\n",
       "      <td>9.999816e+14</td>\n",
       "      <td>5.790484e+06</td>\n",
       "      <td>115.000000</td>\n",
       "      <td>1.000000</td>\n",
       "      <td>1.000000</td>\n",
       "      <td>1.000000</td>\n",
       "      <td>1.000000</td>\n",
       "      <td>4.000000</td>\n",
       "      <td>1.000000</td>\n",
       "    </tr>\n",
       "  </tbody>\n",
       "</table>\n",
       "</div>"
      ],
      "text/plain": [
       "          PatientId  AppointmentID            Age    Scholarship  \\\n",
       "count  1.105270e+05   1.105270e+05  110527.000000  110527.000000   \n",
       "mean   1.474963e+14   5.675305e+06      37.088874       0.098266   \n",
       "std    2.560949e+14   7.129575e+04      23.110205       0.297675   \n",
       "min    3.921784e+04   5.030230e+06      -1.000000       0.000000   \n",
       "25%    4.172614e+12   5.640286e+06      18.000000       0.000000   \n",
       "50%    3.173184e+13   5.680573e+06      37.000000       0.000000   \n",
       "75%    9.439172e+13   5.725524e+06      55.000000       0.000000   \n",
       "max    9.999816e+14   5.790484e+06     115.000000       1.000000   \n",
       "\n",
       "        Hipertension       Diabetes     Alcoholism        Handcap  \\\n",
       "count  110527.000000  110527.000000  110527.000000  110527.000000   \n",
       "mean        0.197246       0.071865       0.030400       0.022248   \n",
       "std         0.397921       0.258265       0.171686       0.161543   \n",
       "min         0.000000       0.000000       0.000000       0.000000   \n",
       "25%         0.000000       0.000000       0.000000       0.000000   \n",
       "50%         0.000000       0.000000       0.000000       0.000000   \n",
       "75%         0.000000       0.000000       0.000000       0.000000   \n",
       "max         1.000000       1.000000       1.000000       4.000000   \n",
       "\n",
       "        SMS_received  \n",
       "count  110527.000000  \n",
       "mean        0.321026  \n",
       "std         0.466873  \n",
       "min         0.000000  \n",
       "25%         0.000000  \n",
       "50%         0.000000  \n",
       "75%         1.000000  \n",
       "max         1.000000  "
      ]
     },
     "execution_count": 4,
     "metadata": {},
     "output_type": "execute_result"
    }
   ],
   "source": [
    "#Checking description to look for incorrect data\n",
    "df.describe()"
   ]
  },
  {
   "cell_type": "markdown",
   "metadata": {},
   "source": [
    "The age data has some values that are less than 0. There are also typos in the column names 'Hipertension' and 'Handcap' that should be corrected."
   ]
  },
  {
   "cell_type": "code",
   "execution_count": 5,
   "metadata": {
    "scrolled": false
   },
   "outputs": [
    {
     "data": {
      "text/html": [
       "<div>\n",
       "<style scoped>\n",
       "    .dataframe tbody tr th:only-of-type {\n",
       "        vertical-align: middle;\n",
       "    }\n",
       "\n",
       "    .dataframe tbody tr th {\n",
       "        vertical-align: top;\n",
       "    }\n",
       "\n",
       "    .dataframe thead th {\n",
       "        text-align: right;\n",
       "    }\n",
       "</style>\n",
       "<table border=\"1\" class=\"dataframe\">\n",
       "  <thead>\n",
       "    <tr style=\"text-align: right;\">\n",
       "      <th></th>\n",
       "      <th>PatientId</th>\n",
       "      <th>AppointmentID</th>\n",
       "      <th>Gender</th>\n",
       "      <th>ScheduledDay</th>\n",
       "      <th>AppointmentDay</th>\n",
       "      <th>Age</th>\n",
       "      <th>Neighbourhood</th>\n",
       "      <th>Scholarship</th>\n",
       "      <th>Hipertension</th>\n",
       "      <th>Diabetes</th>\n",
       "      <th>Alcoholism</th>\n",
       "      <th>Handcap</th>\n",
       "      <th>SMS_received</th>\n",
       "      <th>No-show</th>\n",
       "    </tr>\n",
       "  </thead>\n",
       "  <tbody>\n",
       "  </tbody>\n",
       "</table>\n",
       "</div>"
      ],
      "text/plain": [
       "Empty DataFrame\n",
       "Columns: [PatientId, AppointmentID, Gender, ScheduledDay, AppointmentDay, Age, Neighbourhood, Scholarship, Hipertension, Diabetes, Alcoholism, Handcap, SMS_received, No-show]\n",
       "Index: []"
      ]
     },
     "execution_count": 5,
     "metadata": {},
     "output_type": "execute_result"
    }
   ],
   "source": [
    "#Looking for any duplicated rows\n",
    "df[df.duplicated()]"
   ]
  },
  {
   "cell_type": "markdown",
   "metadata": {},
   "source": [
    "There are no duplicated rows in our dataset."
   ]
  },
  {
   "cell_type": "markdown",
   "metadata": {},
   "source": [
    "### Data Cleaning\n",
    "\n",
    "- Correct typos in the column names.\n",
    "- Convert the data type of `ScheduledDay` and `AppointmentDay` to datetime.\n",
    "- Convert the data type of `No_show` to bool as it will make it easier to work with\n",
    "- Remove the timestamp from `ScheduledDay` and `AppointmentDay` as one doesn't have any time listed and the other would suggest that the appointment was scheduled after the appointment time.\n",
    "- Drop the row that has -1 as age."
   ]
  },
  {
   "cell_type": "code",
   "execution_count": 6,
   "metadata": {
    "scrolled": true
   },
   "outputs": [
    {
     "data": {
      "text/html": [
       "<div>\n",
       "<style scoped>\n",
       "    .dataframe tbody tr th:only-of-type {\n",
       "        vertical-align: middle;\n",
       "    }\n",
       "\n",
       "    .dataframe tbody tr th {\n",
       "        vertical-align: top;\n",
       "    }\n",
       "\n",
       "    .dataframe thead th {\n",
       "        text-align: right;\n",
       "    }\n",
       "</style>\n",
       "<table border=\"1\" class=\"dataframe\">\n",
       "  <thead>\n",
       "    <tr style=\"text-align: right;\">\n",
       "      <th></th>\n",
       "      <th>PatientID</th>\n",
       "      <th>AppointmentID</th>\n",
       "      <th>Gender</th>\n",
       "      <th>Scheduled_Day</th>\n",
       "      <th>Appointment_Day</th>\n",
       "      <th>Age</th>\n",
       "      <th>Neighbourhood</th>\n",
       "      <th>Scholarship</th>\n",
       "      <th>Hypertension</th>\n",
       "      <th>Diabetes</th>\n",
       "      <th>Alcoholism</th>\n",
       "      <th>Handicap</th>\n",
       "      <th>SMS_received</th>\n",
       "      <th>No_show</th>\n",
       "    </tr>\n",
       "  </thead>\n",
       "  <tbody>\n",
       "    <tr>\n",
       "      <th>63912</th>\n",
       "      <td>3.196321e+13</td>\n",
       "      <td>5700278</td>\n",
       "      <td>F</td>\n",
       "      <td>2016-05-16T09:17:44Z</td>\n",
       "      <td>2016-05-19T00:00:00Z</td>\n",
       "      <td>115</td>\n",
       "      <td>ANDORINHAS</td>\n",
       "      <td>0</td>\n",
       "      <td>0</td>\n",
       "      <td>0</td>\n",
       "      <td>0</td>\n",
       "      <td>1</td>\n",
       "      <td>0</td>\n",
       "      <td>Yes</td>\n",
       "    </tr>\n",
       "    <tr>\n",
       "      <th>63915</th>\n",
       "      <td>3.196321e+13</td>\n",
       "      <td>5700279</td>\n",
       "      <td>F</td>\n",
       "      <td>2016-05-16T09:17:44Z</td>\n",
       "      <td>2016-05-19T00:00:00Z</td>\n",
       "      <td>115</td>\n",
       "      <td>ANDORINHAS</td>\n",
       "      <td>0</td>\n",
       "      <td>0</td>\n",
       "      <td>0</td>\n",
       "      <td>0</td>\n",
       "      <td>1</td>\n",
       "      <td>0</td>\n",
       "      <td>Yes</td>\n",
       "    </tr>\n",
       "    <tr>\n",
       "      <th>68127</th>\n",
       "      <td>3.196321e+13</td>\n",
       "      <td>5562812</td>\n",
       "      <td>F</td>\n",
       "      <td>2016-04-08T14:29:17Z</td>\n",
       "      <td>2016-05-16T00:00:00Z</td>\n",
       "      <td>115</td>\n",
       "      <td>ANDORINHAS</td>\n",
       "      <td>0</td>\n",
       "      <td>0</td>\n",
       "      <td>0</td>\n",
       "      <td>0</td>\n",
       "      <td>1</td>\n",
       "      <td>0</td>\n",
       "      <td>Yes</td>\n",
       "    </tr>\n",
       "    <tr>\n",
       "      <th>76284</th>\n",
       "      <td>3.196321e+13</td>\n",
       "      <td>5744037</td>\n",
       "      <td>F</td>\n",
       "      <td>2016-05-30T09:44:51Z</td>\n",
       "      <td>2016-05-30T00:00:00Z</td>\n",
       "      <td>115</td>\n",
       "      <td>ANDORINHAS</td>\n",
       "      <td>0</td>\n",
       "      <td>0</td>\n",
       "      <td>0</td>\n",
       "      <td>0</td>\n",
       "      <td>1</td>\n",
       "      <td>0</td>\n",
       "      <td>No</td>\n",
       "    </tr>\n",
       "    <tr>\n",
       "      <th>97666</th>\n",
       "      <td>7.482346e+14</td>\n",
       "      <td>5717451</td>\n",
       "      <td>F</td>\n",
       "      <td>2016-05-19T07:57:56Z</td>\n",
       "      <td>2016-06-03T00:00:00Z</td>\n",
       "      <td>115</td>\n",
       "      <td>SÃO JOSÉ</td>\n",
       "      <td>0</td>\n",
       "      <td>1</td>\n",
       "      <td>0</td>\n",
       "      <td>0</td>\n",
       "      <td>0</td>\n",
       "      <td>1</td>\n",
       "      <td>No</td>\n",
       "    </tr>\n",
       "  </tbody>\n",
       "</table>\n",
       "</div>"
      ],
      "text/plain": [
       "          PatientID  AppointmentID Gender         Scheduled_Day  \\\n",
       "63912  3.196321e+13        5700278      F  2016-05-16T09:17:44Z   \n",
       "63915  3.196321e+13        5700279      F  2016-05-16T09:17:44Z   \n",
       "68127  3.196321e+13        5562812      F  2016-04-08T14:29:17Z   \n",
       "76284  3.196321e+13        5744037      F  2016-05-30T09:44:51Z   \n",
       "97666  7.482346e+14        5717451      F  2016-05-19T07:57:56Z   \n",
       "\n",
       "            Appointment_Day  Age Neighbourhood  Scholarship  Hypertension  \\\n",
       "63912  2016-05-19T00:00:00Z  115    ANDORINHAS            0             0   \n",
       "63915  2016-05-19T00:00:00Z  115    ANDORINHAS            0             0   \n",
       "68127  2016-05-16T00:00:00Z  115    ANDORINHAS            0             0   \n",
       "76284  2016-05-30T00:00:00Z  115    ANDORINHAS            0             0   \n",
       "97666  2016-06-03T00:00:00Z  115      SÃO JOSÉ            0             1   \n",
       "\n",
       "       Diabetes  Alcoholism  Handicap  SMS_received No_show  \n",
       "63912         0           0         1             0     Yes  \n",
       "63915         0           0         1             0     Yes  \n",
       "68127         0           0         1             0     Yes  \n",
       "76284         0           0         1             0      No  \n",
       "97666         0           0         0             1      No  "
      ]
     },
     "execution_count": 6,
     "metadata": {},
     "output_type": "execute_result"
    }
   ],
   "source": [
    "#Correcting column names\n",
    "df=df.rename(columns={'Hipertension':'Hypertension','Handcap':'Handicap','PatientId':'PatientID','No-show':'No_show',\n",
    "                     'ScheduledDay':'Scheduled_Day','AppointmentDay':'Appointment_Day'})\n",
    "df.query('Age==115')"
   ]
  },
  {
   "cell_type": "code",
   "execution_count": 7,
   "metadata": {
    "scrolled": true
   },
   "outputs": [
    {
     "name": "stdout",
     "output_type": "stream",
     "text": [
      "<class 'pandas.core.frame.DataFrame'>\n",
      "RangeIndex: 110527 entries, 0 to 110526\n",
      "Data columns (total 2 columns):\n",
      " #   Column           Non-Null Count   Dtype         \n",
      "---  ------           --------------   -----         \n",
      " 0   Scheduled_Day    110527 non-null  datetime64[ns]\n",
      " 1   Appointment_Day  110527 non-null  datetime64[ns]\n",
      "dtypes: datetime64[ns](2)\n",
      "memory usage: 1.7 MB\n"
     ]
    },
    {
     "data": {
      "text/html": [
       "<div>\n",
       "<style scoped>\n",
       "    .dataframe tbody tr th:only-of-type {\n",
       "        vertical-align: middle;\n",
       "    }\n",
       "\n",
       "    .dataframe tbody tr th {\n",
       "        vertical-align: top;\n",
       "    }\n",
       "\n",
       "    .dataframe thead th {\n",
       "        text-align: right;\n",
       "    }\n",
       "</style>\n",
       "<table border=\"1\" class=\"dataframe\">\n",
       "  <thead>\n",
       "    <tr style=\"text-align: right;\">\n",
       "      <th></th>\n",
       "      <th>Scheduled_Day</th>\n",
       "      <th>Appointment_Day</th>\n",
       "    </tr>\n",
       "  </thead>\n",
       "  <tbody>\n",
       "    <tr>\n",
       "      <th>0</th>\n",
       "      <td>2016-04-29</td>\n",
       "      <td>2016-04-29</td>\n",
       "    </tr>\n",
       "    <tr>\n",
       "      <th>1</th>\n",
       "      <td>2016-04-29</td>\n",
       "      <td>2016-04-29</td>\n",
       "    </tr>\n",
       "    <tr>\n",
       "      <th>2</th>\n",
       "      <td>2016-04-29</td>\n",
       "      <td>2016-04-29</td>\n",
       "    </tr>\n",
       "    <tr>\n",
       "      <th>3</th>\n",
       "      <td>2016-04-29</td>\n",
       "      <td>2016-04-29</td>\n",
       "    </tr>\n",
       "    <tr>\n",
       "      <th>4</th>\n",
       "      <td>2016-04-29</td>\n",
       "      <td>2016-04-29</td>\n",
       "    </tr>\n",
       "  </tbody>\n",
       "</table>\n",
       "</div>"
      ],
      "text/plain": [
       "  Scheduled_Day Appointment_Day\n",
       "0    2016-04-29      2016-04-29\n",
       "1    2016-04-29      2016-04-29\n",
       "2    2016-04-29      2016-04-29\n",
       "3    2016-04-29      2016-04-29\n",
       "4    2016-04-29      2016-04-29"
      ]
     },
     "execution_count": 7,
     "metadata": {},
     "output_type": "execute_result"
    }
   ],
   "source": [
    "#As the timestamp in ScheduledDay makes it appear like it was after the AppointmentDay when the appointment was scheduled in the\n",
    "#isame day we will remove the timestamp to do this I will have to convert to datetime then strip the time and convert it again\n",
    "\n",
    "df['Scheduled_Day']= pd.to_datetime(df['Scheduled_Day']).dt.date\n",
    "df['Appointment_Day']= pd.to_datetime(df['Appointment_Day']).dt.date\n",
    "df['Appointment_Day']= pd.to_datetime(df['Appointment_Day'])\n",
    "df['Scheduled_Day']= pd.to_datetime(df['Scheduled_Day'])\n",
    "df[['Scheduled_Day','Appointment_Day']].info()\n",
    "df[['Scheduled_Day','Appointment_Day']].head()"
   ]
  },
  {
   "cell_type": "code",
   "execution_count": 8,
   "metadata": {},
   "outputs": [],
   "source": [
    "#Changing `No_show` to bool dtype\n",
    "df['No_show'].replace({'No': 0, 'Yes': 1}, inplace=True)\n",
    "df['No_show'] = df['No_show'].astype('bool')"
   ]
  },
  {
   "cell_type": "code",
   "execution_count": 9,
   "metadata": {},
   "outputs": [
    {
     "data": {
      "text/plain": [
       "count    110526.000000\n",
       "mean         37.089219\n",
       "std          23.110026\n",
       "min           0.000000\n",
       "25%          18.000000\n",
       "50%          37.000000\n",
       "75%          55.000000\n",
       "max         115.000000\n",
       "Name: Age, dtype: float64"
      ]
     },
     "execution_count": 9,
     "metadata": {},
     "output_type": "execute_result"
    }
   ],
   "source": [
    "#droping ages less than 0\n",
    "df.drop(df.loc[df['Age']<0].index, inplace=True)\n",
    "df['Age'].describe()"
   ]
  },
  {
   "cell_type": "markdown",
   "metadata": {},
   "source": [
    "<a id='eda'></a>\n",
    "## Exploratory Data Analysis\n",
    "\n",
    "### Research Question: Which attribute has the strongest correlation with no-shows and how strong the correlation between the two?"
   ]
  },
  {
   "cell_type": "code",
   "execution_count": 10,
   "metadata": {},
   "outputs": [
    {
     "data": {
      "image/png": "[encoded data removed]",
      "text/plain": [
       "<Figure size 640x480 with 1 Axes>"
      ]
     },
     "metadata": {},
     "output_type": "display_data"
    }
   ],
   "source": [
    "#Creating a callable function to look at proportions for No-show appointments\n",
    "def pie_with_perc(df):\n",
    "    plt.figure()\n",
    "    values = df.No_show.value_counts() \n",
    "    labels = ['Shows','No_shows'] \n",
    "    plt.pie(values, labels=labels, autopct='%.2f')\n",
    "    plt.show()\n",
    "#looking at proportions\n",
    "pie_with_perc(df)"
   ]
  },
  {
   "cell_type": "code",
   "execution_count": 11,
   "metadata": {
    "scrolled": true
   },
   "outputs": [
    {
     "data": {
      "text/html": [
       "<style type=\"text/css\">\n",
       "#T_85c9f_row0_col0, #T_85c9f_row1_col1, #T_85c9f_row2_col2, #T_85c9f_row3_col3, #T_85c9f_row4_col4, #T_85c9f_row5_col5, #T_85c9f_row6_col6, #T_85c9f_row7_col7, #T_85c9f_row8_col8, #T_85c9f_row9_col9 {\n",
       "  background-color: #00441b;\n",
       "  color: #f1f1f1;\n",
       "}\n",
       "#T_85c9f_row0_col1 {\n",
       "  background-color: #d1edcb;\n",
       "  color: #000000;\n",
       "}\n",
       "#T_85c9f_row0_col2, #T_85c9f_row0_col3, #T_85c9f_row5_col7, #T_85c9f_row7_col3, #T_85c9f_row7_col5, #T_85c9f_row9_col1 {\n",
       "  background-color: #ecf8e8;\n",
       "  color: #000000;\n",
       "}\n",
       "#T_85c9f_row0_col4, #T_85c9f_row6_col7, #T_85c9f_row7_col6, #T_85c9f_row8_col4, #T_85c9f_row9_col2 {\n",
       "  background-color: #f3faf0;\n",
       "  color: #000000;\n",
       "}\n",
       "#T_85c9f_row0_col5, #T_85c9f_row9_col6 {\n",
       "  background-color: #f4fbf1;\n",
       "  color: #000000;\n",
       "}\n",
       "#T_85c9f_row0_col6, #T_85c9f_row1_col7 {\n",
       "  background-color: #f2faef;\n",
       "  color: #000000;\n",
       "}\n",
       "#T_85c9f_row0_col7, #T_85c9f_row9_col7 {\n",
       "  background-color: #f5fbf2;\n",
       "  color: #000000;\n",
       "}\n",
       "#T_85c9f_row0_col8 {\n",
       "  background-color: #d4eece;\n",
       "  color: #000000;\n",
       "}\n",
       "#T_85c9f_row0_col9, #T_85c9f_row6_col9 {\n",
       "  background-color: #e2f4dd;\n",
       "  color: #000000;\n",
       "}\n",
       "#T_85c9f_row1_col0, #T_85c9f_row3_col4, #T_85c9f_row3_col7 {\n",
       "  background-color: #f5fbf3;\n",
       "  color: #000000;\n",
       "}\n",
       "#T_85c9f_row1_col2, #T_85c9f_row4_col3 {\n",
       "  background-color: #edf8ea;\n",
       "  color: #000000;\n",
       "}\n",
       "#T_85c9f_row1_col3, #T_85c9f_row4_col7 {\n",
       "  background-color: #e8f6e4;\n",
       "  color: #000000;\n",
       "}\n",
       "#T_85c9f_row1_col4, #T_85c9f_row1_col5, #T_85c9f_row5_col6, #T_85c9f_row6_col5 {\n",
       "  background-color: #f1faee;\n",
       "  color: #000000;\n",
       "}\n",
       "#T_85c9f_row1_col6 {\n",
       "  background-color: #eff9ec;\n",
       "  color: #000000;\n",
       "}\n",
       "#T_85c9f_row1_col8, #T_85c9f_row1_col9, #T_85c9f_row2_col3, #T_85c9f_row3_col2, #T_85c9f_row3_col5, #T_85c9f_row4_col0, #T_85c9f_row7_col0, #T_85c9f_row8_col0, #T_85c9f_row8_col1, #T_85c9f_row8_col6, #T_85c9f_row8_col7, #T_85c9f_row9_col4 {\n",
       "  background-color: #f7fcf5;\n",
       "  color: #000000;\n",
       "}\n",
       "#T_85c9f_row2_col0, #T_85c9f_row3_col0, #T_85c9f_row5_col0, #T_85c9f_row8_col5, #T_85c9f_row9_col0, #T_85c9f_row9_col5 {\n",
       "  background-color: #f6fcf4;\n",
       "  color: #000000;\n",
       "}\n",
       "#T_85c9f_row2_col1 {\n",
       "  background-color: #d6efd0;\n",
       "  color: #000000;\n",
       "}\n",
       "#T_85c9f_row2_col4 {\n",
       "  background-color: #6bc072;\n",
       "  color: #000000;\n",
       "}\n",
       "#T_85c9f_row2_col5 {\n",
       "  background-color: #b5e1ae;\n",
       "  color: #000000;\n",
       "}\n",
       "#T_85c9f_row2_col6, #T_85c9f_row6_col4 {\n",
       "  background-color: #e6f5e1;\n",
       "  color: #000000;\n",
       "}\n",
       "#T_85c9f_row2_col7, #T_85c9f_row8_col2 {\n",
       "  background-color: #e9f7e5;\n",
       "  color: #000000;\n",
       "}\n",
       "#T_85c9f_row2_col8, #T_85c9f_row4_col1 {\n",
       "  background-color: #d0edca;\n",
       "  color: #000000;\n",
       "}\n",
       "#T_85c9f_row2_col9, #T_85c9f_row8_col3 {\n",
       "  background-color: #ebf7e7;\n",
       "  color: #000000;\n",
       "}\n",
       "#T_85c9f_row3_col1, #T_85c9f_row5_col1 {\n",
       "  background-color: #ceecc8;\n",
       "  color: #000000;\n",
       "}\n",
       "#T_85c9f_row3_col6, #T_85c9f_row5_col3 {\n",
       "  background-color: #eff9eb;\n",
       "  color: #000000;\n",
       "}\n",
       "#T_85c9f_row3_col8 {\n",
       "  background-color: #d2edcc;\n",
       "  color: #000000;\n",
       "}\n",
       "#T_85c9f_row3_col9 {\n",
       "  background-color: #dbf1d6;\n",
       "  color: #000000;\n",
       "}\n",
       "#T_85c9f_row4_col2 {\n",
       "  background-color: #62bb6d;\n",
       "  color: #f1f1f1;\n",
       "}\n",
       "#T_85c9f_row4_col5 {\n",
       "  background-color: #87cd86;\n",
       "  color: #000000;\n",
       "}\n",
       "#T_85c9f_row4_col6, #T_85c9f_row7_col4, #T_85c9f_row9_col3 {\n",
       "  background-color: #e7f6e3;\n",
       "  color: #000000;\n",
       "}\n",
       "#T_85c9f_row4_col8 {\n",
       "  background-color: #d3eecd;\n",
       "  color: #000000;\n",
       "}\n",
       "#T_85c9f_row4_col9 {\n",
       "  background-color: #e8f6e3;\n",
       "  color: #000000;\n",
       "}\n",
       "#T_85c9f_row5_col2 {\n",
       "  background-color: #a8dca2;\n",
       "  color: #000000;\n",
       "}\n",
       "#T_85c9f_row5_col4 {\n",
       "  background-color: #86cc85;\n",
       "  color: #000000;\n",
       "}\n",
       "#T_85c9f_row5_col8 {\n",
       "  background-color: #d5efcf;\n",
       "  color: #000000;\n",
       "}\n",
       "#T_85c9f_row5_col9 {\n",
       "  background-color: #e5f5e0;\n",
       "  color: #000000;\n",
       "}\n",
       "#T_85c9f_row6_col0 {\n",
       "  background-color: #f4fbf2;\n",
       "  color: #000000;\n",
       "}\n",
       "#T_85c9f_row6_col1 {\n",
       "  background-color: #ccebc6;\n",
       "  color: #000000;\n",
       "}\n",
       "#T_85c9f_row6_col2 {\n",
       "  background-color: #daf0d4;\n",
       "  color: #000000;\n",
       "}\n",
       "#T_85c9f_row6_col3 {\n",
       "  background-color: #e7f6e2;\n",
       "  color: #000000;\n",
       "}\n",
       "#T_85c9f_row6_col8 {\n",
       "  background-color: #d8f0d2;\n",
       "  color: #000000;\n",
       "}\n",
       "#T_85c9f_row7_col1 {\n",
       "  background-color: #cfecc9;\n",
       "  color: #000000;\n",
       "}\n",
       "#T_85c9f_row7_col2 {\n",
       "  background-color: #def2d9;\n",
       "  color: #000000;\n",
       "}\n",
       "#T_85c9f_row7_col8 {\n",
       "  background-color: #d7efd1;\n",
       "  color: #000000;\n",
       "}\n",
       "#T_85c9f_row7_col9 {\n",
       "  background-color: #e3f4de;\n",
       "  color: #000000;\n",
       "}\n",
       "#T_85c9f_row8_col9 {\n",
       "  background-color: #c8e9c1;\n",
       "  color: #000000;\n",
       "}\n",
       "#T_85c9f_row9_col8 {\n",
       "  background-color: #b6e2af;\n",
       "  color: #000000;\n",
       "}\n",
       "</style>\n",
       "<table id=\"T_85c9f\">\n",
       "  <thead>\n",
       "    <tr>\n",
       "      <th class=\"blank level0\" >&nbsp;</th>\n",
       "      <th id=\"T_85c9f_level0_col0\" class=\"col_heading level0 col0\" >PatientID</th>\n",
       "      <th id=\"T_85c9f_level0_col1\" class=\"col_heading level0 col1\" >AppointmentID</th>\n",
       "      <th id=\"T_85c9f_level0_col2\" class=\"col_heading level0 col2\" >Age</th>\n",
       "      <th id=\"T_85c9f_level0_col3\" class=\"col_heading level0 col3\" >Scholarship</th>\n",
       "      <th id=\"T_85c9f_level0_col4\" class=\"col_heading level0 col4\" >Hypertension</th>\n",
       "      <th id=\"T_85c9f_level0_col5\" class=\"col_heading level0 col5\" >Diabetes</th>\n",
       "      <th id=\"T_85c9f_level0_col6\" class=\"col_heading level0 col6\" >Alcoholism</th>\n",
       "      <th id=\"T_85c9f_level0_col7\" class=\"col_heading level0 col7\" >Handicap</th>\n",
       "      <th id=\"T_85c9f_level0_col8\" class=\"col_heading level0 col8\" >SMS_received</th>\n",
       "      <th id=\"T_85c9f_level0_col9\" class=\"col_heading level0 col9\" >No_show</th>\n",
       "    </tr>\n",
       "  </thead>\n",
       "  <tbody>\n",
       "    <tr>\n",
       "      <th id=\"T_85c9f_level0_row0\" class=\"row_heading level0 row0\" >PatientID</th>\n",
       "      <td id=\"T_85c9f_row0_col0\" class=\"data row0 col0\" >1.000000</td>\n",
       "      <td id=\"T_85c9f_row0_col1\" class=\"data row0 col1\" >0.004023</td>\n",
       "      <td id=\"T_85c9f_row0_col2\" class=\"data row0 col2\" >-0.004121</td>\n",
       "      <td id=\"T_85c9f_row0_col3\" class=\"data row0 col3\" >-0.002877</td>\n",
       "      <td id=\"T_85c9f_row0_col4\" class=\"data row0 col4\" >-0.006436</td>\n",
       "      <td id=\"T_85c9f_row0_col5\" class=\"data row0 col5\" >0.001608</td>\n",
       "      <td id=\"T_85c9f_row0_col6\" class=\"data row0 col6\" >0.011014</td>\n",
       "      <td id=\"T_85c9f_row0_col7\" class=\"data row0 col7\" >-0.007915</td>\n",
       "      <td id=\"T_85c9f_row0_col8\" class=\"data row0 col8\" >-0.009742</td>\n",
       "      <td id=\"T_85c9f_row0_col9\" class=\"data row0 col9\" >-0.001456</td>\n",
       "    </tr>\n",
       "    <tr>\n",
       "      <th id=\"T_85c9f_level0_row1\" class=\"row_heading level0 row1\" >AppointmentID</th>\n",
       "      <td id=\"T_85c9f_row1_col0\" class=\"data row1 col0\" >0.004023</td>\n",
       "      <td id=\"T_85c9f_row1_col1\" class=\"data row1 col1\" >1.000000</td>\n",
       "      <td id=\"T_85c9f_row1_col2\" class=\"data row1 col2\" >-0.019106</td>\n",
       "      <td id=\"T_85c9f_row1_col3\" class=\"data row1 col3\" >0.022619</td>\n",
       "      <td id=\"T_85c9f_row1_col4\" class=\"data row1 col4\" >0.012759</td>\n",
       "      <td id=\"T_85c9f_row1_col5\" class=\"data row1 col5\" >0.022632</td>\n",
       "      <td id=\"T_85c9f_row1_col6\" class=\"data row1 col6\" >0.032946</td>\n",
       "      <td id=\"T_85c9f_row1_col7\" class=\"data row1 col7\" >0.014107</td>\n",
       "      <td id=\"T_85c9f_row1_col8\" class=\"data row1 col8\" >-0.256613</td>\n",
       "      <td id=\"T_85c9f_row1_col9\" class=\"data row1 col9\" >-0.162597</td>\n",
       "    </tr>\n",
       "    <tr>\n",
       "      <th id=\"T_85c9f_level0_row2\" class=\"row_heading level0 row2\" >Age</th>\n",
       "      <td id=\"T_85c9f_row2_col0\" class=\"data row2 col0\" >-0.004121</td>\n",
       "      <td id=\"T_85c9f_row2_col1\" class=\"data row2 col1\" >-0.019106</td>\n",
       "      <td id=\"T_85c9f_row2_col2\" class=\"data row2 col2\" >1.000000</td>\n",
       "      <td id=\"T_85c9f_row2_col3\" class=\"data row2 col3\" >-0.092463</td>\n",
       "      <td id=\"T_85c9f_row2_col4\" class=\"data row2 col4\" >0.504586</td>\n",
       "      <td id=\"T_85c9f_row2_col5\" class=\"data row2 col5\" >0.292391</td>\n",
       "      <td id=\"T_85c9f_row2_col6\" class=\"data row2 col6\" >0.095810</td>\n",
       "      <td id=\"T_85c9f_row2_col7\" class=\"data row2 col7\" >0.078032</td>\n",
       "      <td id=\"T_85c9f_row2_col8\" class=\"data row2 col8\" >0.012633</td>\n",
       "      <td id=\"T_85c9f_row2_col9\" class=\"data row2 col9\" >-0.060327</td>\n",
       "    </tr>\n",
       "    <tr>\n",
       "      <th id=\"T_85c9f_level0_row3\" class=\"row_heading level0 row3\" >Scholarship</th>\n",
       "      <td id=\"T_85c9f_row3_col0\" class=\"data row3 col0\" >-0.002877</td>\n",
       "      <td id=\"T_85c9f_row3_col1\" class=\"data row3 col1\" >0.022619</td>\n",
       "      <td id=\"T_85c9f_row3_col2\" class=\"data row3 col2\" >-0.092463</td>\n",
       "      <td id=\"T_85c9f_row3_col3\" class=\"data row3 col3\" >1.000000</td>\n",
       "      <td id=\"T_85c9f_row3_col4\" class=\"data row3 col4\" >-0.019730</td>\n",
       "      <td id=\"T_85c9f_row3_col5\" class=\"data row3 col5\" >-0.024894</td>\n",
       "      <td id=\"T_85c9f_row3_col6\" class=\"data row3 col6\" >0.035022</td>\n",
       "      <td id=\"T_85c9f_row3_col7\" class=\"data row3 col7\" >-0.008587</td>\n",
       "      <td id=\"T_85c9f_row3_col8\" class=\"data row3 col8\" >0.001192</td>\n",
       "      <td id=\"T_85c9f_row3_col9\" class=\"data row3 col9\" >0.029134</td>\n",
       "    </tr>\n",
       "    <tr>\n",
       "      <th id=\"T_85c9f_level0_row4\" class=\"row_heading level0 row4\" >Hypertension</th>\n",
       "      <td id=\"T_85c9f_row4_col0\" class=\"data row4 col0\" >-0.006436</td>\n",
       "      <td id=\"T_85c9f_row4_col1\" class=\"data row4 col1\" >0.012759</td>\n",
       "      <td id=\"T_85c9f_row4_col2\" class=\"data row4 col2\" >0.504586</td>\n",
       "      <td id=\"T_85c9f_row4_col3\" class=\"data row4 col3\" >-0.019730</td>\n",
       "      <td id=\"T_85c9f_row4_col4\" class=\"data row4 col4\" >1.000000</td>\n",
       "      <td id=\"T_85c9f_row4_col5\" class=\"data row4 col5\" >0.433085</td>\n",
       "      <td id=\"T_85c9f_row4_col6\" class=\"data row4 col6\" >0.087970</td>\n",
       "      <td id=\"T_85c9f_row4_col7\" class=\"data row4 col7\" >0.080083</td>\n",
       "      <td id=\"T_85c9f_row4_col8\" class=\"data row4 col8\" >-0.006270</td>\n",
       "      <td id=\"T_85c9f_row4_col9\" class=\"data row4 col9\" >-0.035704</td>\n",
       "    </tr>\n",
       "    <tr>\n",
       "      <th id=\"T_85c9f_level0_row5\" class=\"row_heading level0 row5\" >Diabetes</th>\n",
       "      <td id=\"T_85c9f_row5_col0\" class=\"data row5 col0\" >0.001608</td>\n",
       "      <td id=\"T_85c9f_row5_col1\" class=\"data row5 col1\" >0.022632</td>\n",
       "      <td id=\"T_85c9f_row5_col2\" class=\"data row5 col2\" >0.292391</td>\n",
       "      <td id=\"T_85c9f_row5_col3\" class=\"data row5 col3\" >-0.024894</td>\n",
       "      <td id=\"T_85c9f_row5_col4\" class=\"data row5 col4\" >0.433085</td>\n",
       "      <td id=\"T_85c9f_row5_col5\" class=\"data row5 col5\" >1.000000</td>\n",
       "      <td id=\"T_85c9f_row5_col6\" class=\"data row5 col6\" >0.018473</td>\n",
       "      <td id=\"T_85c9f_row5_col7\" class=\"data row5 col7\" >0.057530</td>\n",
       "      <td id=\"T_85c9f_row5_col8\" class=\"data row5 col8\" >-0.014552</td>\n",
       "      <td id=\"T_85c9f_row5_col9\" class=\"data row5 col9\" >-0.015181</td>\n",
       "    </tr>\n",
       "    <tr>\n",
       "      <th id=\"T_85c9f_level0_row6\" class=\"row_heading level0 row6\" >Alcoholism</th>\n",
       "      <td id=\"T_85c9f_row6_col0\" class=\"data row6 col0\" >0.011014</td>\n",
       "      <td id=\"T_85c9f_row6_col1\" class=\"data row6 col1\" >0.032946</td>\n",
       "      <td id=\"T_85c9f_row6_col2\" class=\"data row6 col2\" >0.095810</td>\n",
       "      <td id=\"T_85c9f_row6_col3\" class=\"data row6 col3\" >0.035022</td>\n",
       "      <td id=\"T_85c9f_row6_col4\" class=\"data row6 col4\" >0.087970</td>\n",
       "      <td id=\"T_85c9f_row6_col5\" class=\"data row6 col5\" >0.018473</td>\n",
       "      <td id=\"T_85c9f_row6_col6\" class=\"data row6 col6\" >1.000000</td>\n",
       "      <td id=\"T_85c9f_row6_col7\" class=\"data row6 col7\" >0.004647</td>\n",
       "      <td id=\"T_85c9f_row6_col8\" class=\"data row6 col8\" >-0.026149</td>\n",
       "      <td id=\"T_85c9f_row6_col9\" class=\"data row6 col9\" >-0.000197</td>\n",
       "    </tr>\n",
       "    <tr>\n",
       "      <th id=\"T_85c9f_level0_row7\" class=\"row_heading level0 row7\" >Handicap</th>\n",
       "      <td id=\"T_85c9f_row7_col0\" class=\"data row7 col0\" >-0.007915</td>\n",
       "      <td id=\"T_85c9f_row7_col1\" class=\"data row7 col1\" >0.014107</td>\n",
       "      <td id=\"T_85c9f_row7_col2\" class=\"data row7 col2\" >0.078032</td>\n",
       "      <td id=\"T_85c9f_row7_col3\" class=\"data row7 col3\" >-0.008587</td>\n",
       "      <td id=\"T_85c9f_row7_col4\" class=\"data row7 col4\" >0.080083</td>\n",
       "      <td id=\"T_85c9f_row7_col5\" class=\"data row7 col5\" >0.057530</td>\n",
       "      <td id=\"T_85c9f_row7_col6\" class=\"data row7 col6\" >0.004647</td>\n",
       "      <td id=\"T_85c9f_row7_col7\" class=\"data row7 col7\" >1.000000</td>\n",
       "      <td id=\"T_85c9f_row7_col8\" class=\"data row7 col8\" >-0.024162</td>\n",
       "      <td id=\"T_85c9f_row7_col9\" class=\"data row7 col9\" >-0.006077</td>\n",
       "    </tr>\n",
       "    <tr>\n",
       "      <th id=\"T_85c9f_level0_row8\" class=\"row_heading level0 row8\" >SMS_received</th>\n",
       "      <td id=\"T_85c9f_row8_col0\" class=\"data row8 col0\" >-0.009742</td>\n",
       "      <td id=\"T_85c9f_row8_col1\" class=\"data row8 col1\" >-0.256613</td>\n",
       "      <td id=\"T_85c9f_row8_col2\" class=\"data row8 col2\" >0.012633</td>\n",
       "      <td id=\"T_85c9f_row8_col3\" class=\"data row8 col3\" >0.001192</td>\n",
       "      <td id=\"T_85c9f_row8_col4\" class=\"data row8 col4\" >-0.006270</td>\n",
       "      <td id=\"T_85c9f_row8_col5\" class=\"data row8 col5\" >-0.014552</td>\n",
       "      <td id=\"T_85c9f_row8_col6\" class=\"data row8 col6\" >-0.026149</td>\n",
       "      <td id=\"T_85c9f_row8_col7\" class=\"data row8 col7\" >-0.024162</td>\n",
       "      <td id=\"T_85c9f_row8_col8\" class=\"data row8 col8\" >1.000000</td>\n",
       "      <td id=\"T_85c9f_row8_col9\" class=\"data row8 col9\" >0.126428</td>\n",
       "    </tr>\n",
       "    <tr>\n",
       "      <th id=\"T_85c9f_level0_row9\" class=\"row_heading level0 row9\" >No_show</th>\n",
       "      <td id=\"T_85c9f_row9_col0\" class=\"data row9 col0\" >-0.001456</td>\n",
       "      <td id=\"T_85c9f_row9_col1\" class=\"data row9 col1\" >-0.162597</td>\n",
       "      <td id=\"T_85c9f_row9_col2\" class=\"data row9 col2\" >-0.060327</td>\n",
       "      <td id=\"T_85c9f_row9_col3\" class=\"data row9 col3\" >0.029134</td>\n",
       "      <td id=\"T_85c9f_row9_col4\" class=\"data row9 col4\" >-0.035704</td>\n",
       "      <td id=\"T_85c9f_row9_col5\" class=\"data row9 col5\" >-0.015181</td>\n",
       "      <td id=\"T_85c9f_row9_col6\" class=\"data row9 col6\" >-0.000197</td>\n",
       "      <td id=\"T_85c9f_row9_col7\" class=\"data row9 col7\" >-0.006077</td>\n",
       "      <td id=\"T_85c9f_row9_col8\" class=\"data row9 col8\" >0.126428</td>\n",
       "      <td id=\"T_85c9f_row9_col9\" class=\"data row9 col9\" >1.000000</td>\n",
       "    </tr>\n",
       "  </tbody>\n",
       "</table>\n"
      ],
      "text/plain": [
       "<pandas.io.formats.style.Styler at 0x2827a0955e0>"
      ]
     },
     "execution_count": 11,
     "metadata": {},
     "output_type": "execute_result"
    }
   ],
   "source": [
    "#Looking for correlations to determine the strongest relations\n",
    "df.corr().style.background_gradient(cmap=\"Greens\")"
   ]
  },
  {
   "cell_type": "markdown",
   "metadata": {},
   "source": [
    "Looking at the correlation grid it looks like the strongest correlation between a patient not showing up for their appointment is based upon whether or not they recieved a sms message. It is curious that the data suggests that recieving a sms message suggests that a patient is less likely to show up."
   ]
  },
  {
   "cell_type": "code",
   "execution_count": 12,
   "metadata": {
    "scrolled": true
   },
   "outputs": [
    {
     "data": {
      "image/png": "[encoded data removed]",
      "text/plain": [
       "<Figure size 640x480 with 1 Axes>"
      ]
     },
     "metadata": {},
     "output_type": "display_data"
    }
   ],
   "source": [
    "df_sms=df.query('SMS_received==True')\n",
    "pie_with_perc(df_sms)"
   ]
  },
  {
   "cell_type": "markdown",
   "metadata": {},
   "source": [
    "Patients that recieved sms reminders were roughly 7.5% more likely to no-show for an appointment.To dive deeper into why this might be the case we will look at the proportions of people that are recieving a sms message and \n",
    "if sms messages are being sent to a certain patient group. Looking back at our correlation matrix The strongest positive correlation between those that are recieving sms messages another attribute looks to be age."
   ]
  },
  {
   "cell_type": "code",
   "execution_count": 13,
   "metadata": {
    "scrolled": true
   },
   "outputs": [
    {
     "data": {
      "image/png": "[encoded data removed]",
      "text/plain": [
       "<Figure size 640x480 with 1 Axes>"
      ]
     },
     "metadata": {},
     "output_type": "display_data"
    }
   ],
   "source": [
    "#comparing percentages of sms_recieved and no_shows accros all ages\n",
    "df_age=df.groupby('Age').mean()\n",
    "df_age.SMS_received.plot.line()\n",
    "df_age.No_show.plot.line()\n",
    "plt.legend();"
   ]
  },
  {
   "cell_type": "markdown",
   "metadata": {},
   "source": [
    "It appears that patients in the age range from roughly 40-90 years old are more likely to pay attention to the text message reminders and patients below and over that age may be ignoring the text message reminders. This information does not help explain why there are more no-shows when the patient recieves a sms alert."
   ]
  },
  {
   "cell_type": "markdown",
   "metadata": {},
   "source": [
    "It is possible that there is another factor that would explain the behavoir of more no_shows showing up with patients have recieved sms messages and that would be time from when they scheduled their appointment to the actual appointment date."
   ]
  },
  {
   "cell_type": "code",
   "execution_count": 14,
   "metadata": {},
   "outputs": [
    {
     "name": "stdout",
     "output_type": "stream",
     "text": [
      "10.183884334907624\n"
     ]
    }
   ],
   "source": [
    "#Looking at the average difference between appointment day and when it was originally scheduled\n",
    "def calc_day_diff(df):\n",
    "    day_diff= round(pd.to_timedelta(df['Appointment_Day'] - df['Scheduled_Day'],'D') / np.timedelta64(1, 'D')).astype('int')\n",
    "    #Looking at the data I found appointments that show to be scheduled after the appointment so normalizing those values \n",
    "    #to reflect 0\n",
    "    return day_diff.clip(lower=0)\n",
    "day_diff=calc_day_diff(df)\n",
    "print(day_diff.mean())"
   ]
  },
  {
   "cell_type": "code",
   "execution_count": 15,
   "metadata": {},
   "outputs": [
    {
     "name": "stdout",
     "output_type": "stream",
     "text": [
      "19.016712699396876\n"
     ]
    }
   ],
   "source": [
    "#Looking at the average difference for patients that recieved a sms message\n",
    "df_sms=df.query('SMS_received==True')\n",
    "sms_day_diff=calc_day_diff(df_sms)\n",
    "print(sms_day_diff.mean())"
   ]
  },
  {
   "cell_type": "code",
   "execution_count": 16,
   "metadata": {
    "scrolled": true
   },
   "outputs": [
    {
     "name": "stdout",
     "output_type": "stream",
     "text": [
      "15.831936914736323\n"
     ]
    }
   ],
   "source": [
    "#Looking at the average difference for patients that where a no-show for their appointment\n",
    "df_ns=df.query('No_show==True')\n",
    "ns_day_diff = calc_day_diff(df_ns)\n",
    "print(ns_day_diff.mean())"
   ]
  },
  {
   "cell_type": "code",
   "execution_count": 17,
   "metadata": {
    "scrolled": true
   },
   "outputs": [
    {
     "data": {
      "image/png": "[encoded data removed]",
      "text/plain": [
       "<Figure size 640x480 with 1 Axes>"
      ]
     },
     "metadata": {},
     "output_type": "display_data"
    }
   ],
   "source": [
    "diff_arr=[day_diff.mean(),sms_day_diff.mean(),ns_day_diff.mean()]\n",
    "plt.bar([1,2,3],diff_arr, tick_label=['day_diff','sms_day_diff', 'ns_day_diff'])\n",
    "plt.ylabel('Average Days');"
   ]
  },
  {
   "cell_type": "markdown",
   "metadata": {},
   "source": [
    "It looks like there are significantly more days inbetween scheduled day and appointment day for patients that are recieving a sms message reminder. This data would suggest that there is some threshold of days between the scheduling and appointment date that they will start sending sms messages to patients. It also looks like there are a much more no-shows for patients that have scheduled their appointments earlier."
   ]
  },
  {
   "cell_type": "code",
   "execution_count": 18,
   "metadata": {
    "scrolled": true
   },
   "outputs": [
    {
     "data": {
      "text/plain": [
       "53.55228580190209"
      ]
     },
     "execution_count": 18,
     "metadata": {},
     "output_type": "execute_result"
    }
   ],
   "source": [
    "day_diff.mean()/sms_day_diff.mean()*100"
   ]
  },
  {
   "cell_type": "code",
   "execution_count": 19,
   "metadata": {},
   "outputs": [
    {
     "data": {
      "image/png": "[encoded data removed]",
      "text/plain": [
       "<Figure size 640x480 with 1 Axes>"
      ]
     },
     "metadata": {},
     "output_type": "display_data"
    }
   ],
   "source": [
    "df['day_diff']=day_diff\n",
    "df.day_diff[df.No_show == False].hist(alpha=0.75, bins=10);\n",
    "df.day_diff[df.No_show == True].hist(alpha=0.75, bins=10);\n",
    "plt.xlabel('Days Between Appointment Scheduling and Appointment Date')\n",
    "plt.ylabel('Patients that Showed/No-showed');"
   ]
  },
  {
   "cell_type": "code",
   "execution_count": 20,
   "metadata": {},
   "outputs": [
    {
     "data": {
      "image/png": "[encoded data removed]",
      "text/plain": [
       "<Figure size 640x480 with 1 Axes>"
      ]
     },
     "metadata": {},
     "output_type": "display_data"
    }
   ],
   "source": [
    "df_over_15=df.query('day_diff >= 15')\n",
    "pie_with_perc(df_over_15)"
   ]
  },
  {
   "cell_type": "markdown",
   "metadata": {},
   "source": [
    "This visualization clearly shows that the earlier the appointment was scheduled the more likely a patient is to not show up for it. The percentage of no shows goes up by over 12% of patients when the appointment was scheduled at least 15 days in advance."
   ]
  },
  {
   "cell_type": "markdown",
   "metadata": {},
   "source": [
    "<a id='conclusions'></a>\n",
    "## Conclusions\n",
    "\n",
    "\n",
    "After analyzing the data to see which attributes have the strongest correlation between not showing up for their appointment it was clear that the attribute that had the strongest correlation was if a patient recieved an SMS message or not. Looking deeper into the reason behind this we found that clients that schedule their appointment further in advance are the patients that are recieving this sms message, and the distance between when a patient scheduled their appointment and the actual appointment date was the root cause behind this correlation.\n",
    "\n",
    "We would be able to make recommendations based upon these findings that the reminder system in place could probably be improved upon and that scheduling appointments closer to the appointment date could drastically cut down on the number of patients not showing up for appointments.\n",
    "\n",
    "The limitations that we experienced were around not knowing the exact process behind when a sms message is sent out or not. It could be the case that they send it out to any client that is not."
   ]
  }
 ],
 "metadata": {
  "kernelspec": {
   "display_name": "Python 3 (ipykernel)",
   "language": "python",
   "name": "python3"
  },
  "language_info": {
   "codemirror_mode": {
    "name": "ipython",
    "version": 3
   },
   "file_extension": ".py",
   "mimetype": "text/x-python",
   "name": "python",
   "nbconvert_exporter": "python",
   "pygments_lexer": "ipython3",
   "version": "3.9.13"
  }
 },
 "nbformat": 4,
 "nbformat_minor": 2
}
